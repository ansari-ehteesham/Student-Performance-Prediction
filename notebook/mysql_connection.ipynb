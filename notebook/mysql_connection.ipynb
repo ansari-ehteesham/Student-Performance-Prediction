{
 "cells": [
  {
   "cell_type": "code",
   "execution_count": 2,
   "id": "6e4112cb",
   "metadata": {},
   "outputs": [
    {
     "data": {
      "text/plain": [
       "True"
      ]
     },
     "execution_count": 2,
     "metadata": {},
     "output_type": "execute_result"
    }
   ],
   "source": [
    "import os\n",
    "from dotenv import load_dotenv, dotenv_values\n",
    "load_dotenv()"
   ]
  },
  {
   "cell_type": "code",
   "execution_count": 11,
   "id": "57176f06",
   "metadata": {},
   "outputs": [
    {
     "name": "stdout",
     "output_type": "stream",
     "text": [
      "root\n"
     ]
    }
   ],
   "source": [
    "print(os.getenv(\"MYSQL_USER\"))"
   ]
  },
  {
   "cell_type": "code",
   "execution_count": 16,
   "id": "3c14f60e",
   "metadata": {},
   "outputs": [],
   "source": [
    "import mysql.connector\n",
    "\n",
    "cnx = mysql.connector.connect(\n",
    "    user = os.getenv(\"MYSQL_USER\"),\n",
    "    password = os.getenv(\"MYSQL_PASSWORD\"),\n",
    "    host=\"127.0.0.1\",\n",
    "    database = \"student\"\n",
    ")"
   ]
  },
  {
   "cell_type": "code",
   "execution_count": 21,
   "id": "d2be45e2",
   "metadata": {},
   "outputs": [
    {
     "name": "stdout",
     "output_type": "stream",
     "text": [
      "[('female', 'group B', \"bachelor's degree\", 'standard', 'none', 72, 72, 74), ('female', 'group C', 'some college', 'standard', 'completed', 69, 90, 88), ('female', 'group B', \"master's degree\", 'standard', 'none', 90, 95, 93), ('male', 'group A', \"associate's degree\", 'free/reduced', 'none', 47, 57, 44), ('male', 'group C', 'some college', 'standard', 'none', 76, 78, 75)]\n"
     ]
    }
   ],
   "source": [
    "with cnx.cursor() as cursor:\n",
    "    result = cursor.execute(\"SELECT * FROM performance LIMIT 5\")\n",
    "    rows = cursor.fetchall()\n",
    "    print(rows)"
   ]
  },
  {
   "cell_type": "code",
   "execution_count": 1,
   "id": "023293e7",
   "metadata": {},
   "outputs": [],
   "source": [
    "# Azure MySQL Flexible server connection checking\n",
    "from src.utils import mysql_connection_establishment"
   ]
  },
  {
   "cell_type": "code",
   "execution_count": 2,
   "id": "5d2ac55a",
   "metadata": {},
   "outputs": [
    {
     "name": "stderr",
     "output_type": "stream",
     "text": [
      "[2025-06-26 13:37:34,669] 16 utils.py - INFO - Loaded .env Variables\n",
      "[2025-06-26 13:37:36,383] 33 utils.py - INFO - Conection Established Succefullly with MySQL\n"
     ]
    }
   ],
   "source": [
    "cnx = mysql_connection_establishment(database_name='student')"
   ]
  },
  {
   "cell_type": "code",
   "execution_count": 7,
   "id": "b6ff2fc7",
   "metadata": {},
   "outputs": [
    {
     "name": "stdout",
     "output_type": "stream",
     "text": [
      "Succesfully Connected...\n",
      "(1000,)\n"
     ]
    }
   ],
   "source": [
    "if cnx.is_connected():\n",
    "    print(\"Succesfully Connected...\")\n",
    "    cursor = cnx.cursor()\n",
    "    cursor.execute(\"SELECT COUNT(*) FROM performance\")\n",
    "    result = cursor.fetchall()\n",
    "    print(result[0])"
   ]
  },
  {
   "cell_type": "code",
   "execution_count": null,
   "id": "42077ec8",
   "metadata": {},
   "outputs": [],
   "source": []
  }
 ],
 "metadata": {
  "kernelspec": {
   "display_name": "env",
   "language": "python",
   "name": "python3"
  },
  "language_info": {
   "codemirror_mode": {
    "name": "ipython",
    "version": 3
   },
   "file_extension": ".py",
   "mimetype": "text/x-python",
   "name": "python",
   "nbconvert_exporter": "python",
   "pygments_lexer": "ipython3",
   "version": "3.12.4"
  }
 },
 "nbformat": 4,
 "nbformat_minor": 5
}
